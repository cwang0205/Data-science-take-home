{
 "cells": [
  {
   "cell_type": "code",
   "execution_count": 129,
   "id": "aaa8302f-b61c-4b14-8a1d-17412b87d419",
   "metadata": {},
   "outputs": [],
   "source": [
    "import warnings\n",
    "warnings.simplefilter(\"ignore\")\n",
    "import numpy as np\n",
    "import pandas as pd\n",
    "import seaborn as sns\n",
    "import matplotlib.pyplot as plt\n",
    "\n",
    "from sklearn.metrics import auc, roc_curve, classification_report, confusion_matrix\n",
    "from sklearn.tree import DecisionTreeClassifier\n",
    "from sklearn.ensemble import RandomForestClassifier\n",
    "from xgboost import XGBClassifier\n",
    "from lightgbm import LGBMClassifier"
   ]
  },
  {
   "cell_type": "code",
   "execution_count": 130,
   "id": "7229c0e7-02c6-4283-ab44-705f920a6c5d",
   "metadata": {},
   "outputs": [],
   "source": [
    "country_code=pd.read_csv(\"C:/Users/chenl/Data Science prep/data/IpAddress_to_Country - Identifying Fraudulent Activities.csv\")\n",
    "data=pd.read_csv(\"C:/Users/chenl/Data Science prep/data/Fraud_Data - Identifying Fraudulent Activities.csv\",parse_dates=[\"signup_time\",\"purchase_time\"])\n",
    "country_code[\"lower_bound_ip_address\"]=country_code[\"lower_bound_ip_address\"].astype(\"int64\")"
   ]
  },
  {
   "cell_type": "code",
   "execution_count": 131,
   "id": "89763fc4-560b-49e8-99f2-bfe09bb5c2bb",
   "metadata": {},
   "outputs": [
    {
     "data": {
      "text/plain": [
       "151112"
      ]
     },
     "execution_count": 131,
     "metadata": {},
     "output_type": "execute_result"
    }
   ],
   "source": [
    "# country_code.dtypes\n",
    "# len(data)\n",
    "# len(country_code)\n",
    "# country_code\n",
    "data[\"user_id\"].nunique()\n",
    "# users are unique"
   ]
  },
  {
   "cell_type": "code",
   "execution_count": 132,
   "id": "c04a2d3f-6163-4ba1-bcd4-8e7b0e73df44",
   "metadata": {},
   "outputs": [
    {
     "data": {
      "text/html": [
       "<div>\n",
       "<style scoped>\n",
       "    .dataframe tbody tr th:only-of-type {\n",
       "        vertical-align: middle;\n",
       "    }\n",
       "\n",
       "    .dataframe tbody tr th {\n",
       "        vertical-align: top;\n",
       "    }\n",
       "\n",
       "    .dataframe thead th {\n",
       "        text-align: right;\n",
       "    }\n",
       "</style>\n",
       "<table border=\"1\" class=\"dataframe\">\n",
       "  <thead>\n",
       "    <tr style=\"text-align: right;\">\n",
       "      <th></th>\n",
       "      <th>user_id</th>\n",
       "      <th>signup_time</th>\n",
       "      <th>purchase_time</th>\n",
       "      <th>purchase_value</th>\n",
       "      <th>device_id</th>\n",
       "      <th>source</th>\n",
       "      <th>browser</th>\n",
       "      <th>sex</th>\n",
       "      <th>age</th>\n",
       "      <th>ip_address</th>\n",
       "      <th>class</th>\n",
       "      <th>country</th>\n",
       "    </tr>\n",
       "  </thead>\n",
       "  <tbody>\n",
       "    <tr>\n",
       "      <th>0</th>\n",
       "      <td>22058</td>\n",
       "      <td>2015-02-24 22:55:49</td>\n",
       "      <td>2015-04-18 02:47:11</td>\n",
       "      <td>34</td>\n",
       "      <td>QVPSPJUOCKZAR</td>\n",
       "      <td>SEO</td>\n",
       "      <td>Chrome</td>\n",
       "      <td>M</td>\n",
       "      <td>39</td>\n",
       "      <td>7.327584e+08</td>\n",
       "      <td>0</td>\n",
       "      <td>Japan</td>\n",
       "    </tr>\n",
       "    <tr>\n",
       "      <th>1</th>\n",
       "      <td>333320</td>\n",
       "      <td>2015-06-07 20:39:50</td>\n",
       "      <td>2015-06-08 01:38:54</td>\n",
       "      <td>16</td>\n",
       "      <td>EOGFQPIZPYXFZ</td>\n",
       "      <td>Ads</td>\n",
       "      <td>Chrome</td>\n",
       "      <td>F</td>\n",
       "      <td>53</td>\n",
       "      <td>3.503114e+08</td>\n",
       "      <td>0</td>\n",
       "      <td>United States</td>\n",
       "    </tr>\n",
       "    <tr>\n",
       "      <th>2</th>\n",
       "      <td>1359</td>\n",
       "      <td>2015-01-01 18:52:44</td>\n",
       "      <td>2015-01-01 18:52:45</td>\n",
       "      <td>15</td>\n",
       "      <td>YSSKYOSJHPPLJ</td>\n",
       "      <td>SEO</td>\n",
       "      <td>Opera</td>\n",
       "      <td>M</td>\n",
       "      <td>53</td>\n",
       "      <td>2.621474e+09</td>\n",
       "      <td>1</td>\n",
       "      <td>United States</td>\n",
       "    </tr>\n",
       "    <tr>\n",
       "      <th>3</th>\n",
       "      <td>150084</td>\n",
       "      <td>2015-04-28 21:13:25</td>\n",
       "      <td>2015-05-04 13:54:50</td>\n",
       "      <td>44</td>\n",
       "      <td>ATGTXKYKUDUQN</td>\n",
       "      <td>SEO</td>\n",
       "      <td>Safari</td>\n",
       "      <td>M</td>\n",
       "      <td>41</td>\n",
       "      <td>3.840542e+09</td>\n",
       "      <td>0</td>\n",
       "      <td>NA</td>\n",
       "    </tr>\n",
       "    <tr>\n",
       "      <th>4</th>\n",
       "      <td>221365</td>\n",
       "      <td>2015-07-21 07:09:52</td>\n",
       "      <td>2015-09-09 18:40:53</td>\n",
       "      <td>39</td>\n",
       "      <td>NAUITBZFJKHWW</td>\n",
       "      <td>Ads</td>\n",
       "      <td>Safari</td>\n",
       "      <td>M</td>\n",
       "      <td>45</td>\n",
       "      <td>4.155831e+08</td>\n",
       "      <td>0</td>\n",
       "      <td>United States</td>\n",
       "    </tr>\n",
       "    <tr>\n",
       "      <th>...</th>\n",
       "      <td>...</td>\n",
       "      <td>...</td>\n",
       "      <td>...</td>\n",
       "      <td>...</td>\n",
       "      <td>...</td>\n",
       "      <td>...</td>\n",
       "      <td>...</td>\n",
       "      <td>...</td>\n",
       "      <td>...</td>\n",
       "      <td>...</td>\n",
       "      <td>...</td>\n",
       "      <td>...</td>\n",
       "    </tr>\n",
       "    <tr>\n",
       "      <th>151107</th>\n",
       "      <td>345170</td>\n",
       "      <td>2015-01-27 03:03:34</td>\n",
       "      <td>2015-03-29 00:30:47</td>\n",
       "      <td>43</td>\n",
       "      <td>XPSKTWGPWINLR</td>\n",
       "      <td>SEO</td>\n",
       "      <td>Chrome</td>\n",
       "      <td>M</td>\n",
       "      <td>28</td>\n",
       "      <td>3.451155e+09</td>\n",
       "      <td>1</td>\n",
       "      <td>United States</td>\n",
       "    </tr>\n",
       "    <tr>\n",
       "      <th>151108</th>\n",
       "      <td>274471</td>\n",
       "      <td>2015-05-15 17:43:29</td>\n",
       "      <td>2015-05-26 12:24:39</td>\n",
       "      <td>35</td>\n",
       "      <td>LYSFABUCPCGBA</td>\n",
       "      <td>SEO</td>\n",
       "      <td>Safari</td>\n",
       "      <td>M</td>\n",
       "      <td>32</td>\n",
       "      <td>2.439047e+09</td>\n",
       "      <td>0</td>\n",
       "      <td>Netherlands</td>\n",
       "    </tr>\n",
       "    <tr>\n",
       "      <th>151109</th>\n",
       "      <td>368416</td>\n",
       "      <td>2015-03-03 23:07:31</td>\n",
       "      <td>2015-05-20 07:07:47</td>\n",
       "      <td>40</td>\n",
       "      <td>MEQHCSJUBRBFE</td>\n",
       "      <td>SEO</td>\n",
       "      <td>IE</td>\n",
       "      <td>F</td>\n",
       "      <td>26</td>\n",
       "      <td>2.748471e+09</td>\n",
       "      <td>0</td>\n",
       "      <td>Japan</td>\n",
       "    </tr>\n",
       "    <tr>\n",
       "      <th>151110</th>\n",
       "      <td>207709</td>\n",
       "      <td>2015-07-09 20:06:07</td>\n",
       "      <td>2015-09-07 09:34:46</td>\n",
       "      <td>46</td>\n",
       "      <td>CMCXFGRHYSTVJ</td>\n",
       "      <td>SEO</td>\n",
       "      <td>Chrome</td>\n",
       "      <td>M</td>\n",
       "      <td>37</td>\n",
       "      <td>3.601175e+09</td>\n",
       "      <td>0</td>\n",
       "      <td>United States</td>\n",
       "    </tr>\n",
       "    <tr>\n",
       "      <th>151111</th>\n",
       "      <td>138208</td>\n",
       "      <td>2015-06-10 07:02:20</td>\n",
       "      <td>2015-07-21 02:03:53</td>\n",
       "      <td>20</td>\n",
       "      <td>ZINIADFCLHYPG</td>\n",
       "      <td>Direct</td>\n",
       "      <td>IE</td>\n",
       "      <td>M</td>\n",
       "      <td>38</td>\n",
       "      <td>4.103825e+09</td>\n",
       "      <td>0</td>\n",
       "      <td>NA</td>\n",
       "    </tr>\n",
       "  </tbody>\n",
       "</table>\n",
       "<p>151112 rows × 12 columns</p>\n",
       "</div>"
      ],
      "text/plain": [
       "        user_id         signup_time       purchase_time  purchase_value  \\\n",
       "0         22058 2015-02-24 22:55:49 2015-04-18 02:47:11              34   \n",
       "1        333320 2015-06-07 20:39:50 2015-06-08 01:38:54              16   \n",
       "2          1359 2015-01-01 18:52:44 2015-01-01 18:52:45              15   \n",
       "3        150084 2015-04-28 21:13:25 2015-05-04 13:54:50              44   \n",
       "4        221365 2015-07-21 07:09:52 2015-09-09 18:40:53              39   \n",
       "...         ...                 ...                 ...             ...   \n",
       "151107   345170 2015-01-27 03:03:34 2015-03-29 00:30:47              43   \n",
       "151108   274471 2015-05-15 17:43:29 2015-05-26 12:24:39              35   \n",
       "151109   368416 2015-03-03 23:07:31 2015-05-20 07:07:47              40   \n",
       "151110   207709 2015-07-09 20:06:07 2015-09-07 09:34:46              46   \n",
       "151111   138208 2015-06-10 07:02:20 2015-07-21 02:03:53              20   \n",
       "\n",
       "            device_id  source browser sex  age    ip_address  class  \\\n",
       "0       QVPSPJUOCKZAR     SEO  Chrome   M   39  7.327584e+08      0   \n",
       "1       EOGFQPIZPYXFZ     Ads  Chrome   F   53  3.503114e+08      0   \n",
       "2       YSSKYOSJHPPLJ     SEO   Opera   M   53  2.621474e+09      1   \n",
       "3       ATGTXKYKUDUQN     SEO  Safari   M   41  3.840542e+09      0   \n",
       "4       NAUITBZFJKHWW     Ads  Safari   M   45  4.155831e+08      0   \n",
       "...               ...     ...     ...  ..  ...           ...    ...   \n",
       "151107  XPSKTWGPWINLR     SEO  Chrome   M   28  3.451155e+09      1   \n",
       "151108  LYSFABUCPCGBA     SEO  Safari   M   32  2.439047e+09      0   \n",
       "151109  MEQHCSJUBRBFE     SEO      IE   F   26  2.748471e+09      0   \n",
       "151110  CMCXFGRHYSTVJ     SEO  Chrome   M   37  3.601175e+09      0   \n",
       "151111  ZINIADFCLHYPG  Direct      IE   M   38  4.103825e+09      0   \n",
       "\n",
       "              country  \n",
       "0               Japan  \n",
       "1       United States  \n",
       "2       United States  \n",
       "3                  NA  \n",
       "4       United States  \n",
       "...               ...  \n",
       "151107  United States  \n",
       "151108    Netherlands  \n",
       "151109          Japan  \n",
       "151110  United States  \n",
       "151111             NA  \n",
       "\n",
       "[151112 rows x 12 columns]"
      ]
     },
     "execution_count": 132,
     "metadata": {},
     "output_type": "execute_result"
    }
   ],
   "source": [
    "# look country for each user\n",
    "def find_country(ip_address):\n",
    "    temp=country_code[\n",
    "    (country_code[\"lower_bound_ip_address\"]<=ip_address) &\n",
    "    (country_code[\"upper_bound_ip_address\"]>=ip_address)\n",
    "    ]\n",
    "    if not temp.empty:\n",
    "        return temp[\"country\"].iloc[0]\n",
    "    else:\n",
    "        return \"NA\"\n",
    "data[\"country\"]=data[\"ip_address\"].apply(find_country)\n",
    "data"
   ]
  },
  {
   "cell_type": "code",
   "execution_count": 133,
   "id": "30de7f3a-fd05-4d6b-badb-a78b2893b35d",
   "metadata": {},
   "outputs": [
    {
     "name": "stdout",
     "output_type": "stream",
     "text": [
      "<class 'pandas.core.frame.DataFrame'>\n",
      "RangeIndex: 151112 entries, 0 to 151111\n",
      "Data columns (total 12 columns):\n",
      " #   Column          Non-Null Count   Dtype         \n",
      "---  ------          --------------   -----         \n",
      " 0   user_id         151112 non-null  int64         \n",
      " 1   signup_time     151112 non-null  datetime64[ns]\n",
      " 2   purchase_time   151112 non-null  datetime64[ns]\n",
      " 3   purchase_value  151112 non-null  int64         \n",
      " 4   device_id       151112 non-null  object        \n",
      " 5   source          151112 non-null  object        \n",
      " 6   browser         151112 non-null  object        \n",
      " 7   sex             151112 non-null  object        \n",
      " 8   age             151112 non-null  int64         \n",
      " 9   ip_address      151112 non-null  float64       \n",
      " 10  class           151112 non-null  int64         \n",
      " 11  country         151112 non-null  object        \n",
      "dtypes: datetime64[ns](2), float64(1), int64(4), object(5)\n",
      "memory usage: 13.8+ MB\n"
     ]
    }
   ],
   "source": [
    "data.info()\n",
    "# no null values"
   ]
  },
  {
   "cell_type": "markdown",
   "id": "96d30ef6-7919-4657-88ea-bb4bf47b3d9b",
   "metadata": {},
   "source": [
    "# data preprocessing\n"
   ]
  },
  {
   "cell_type": "markdown",
   "id": "b7600b99-a426-4417-a9c4-0e26fc633f36",
   "metadata": {},
   "source": [
    "feature engineering - hypothesis: \n",
    "\n",
    "1. time diff from sign up and purchase\n",
    "2. check if multi account used same IP address, create a binary column T/F\n",
    "3. check if multi account used same device ID, create a binary column T/F\n",
    "4. extra month of year, week of year from both time columns\n",
    "5. delete ip_address, use country code instead for model feature"
   ]
  },
  {
   "cell_type": "code",
   "execution_count": 134,
   "id": "dda71547-f8c2-4c4c-9140-47e6a4d7b874",
   "metadata": {},
   "outputs": [],
   "source": [
    "# length between sign and purchase\n",
    "data[\"diff_days\"]=(data[\"purchase_time\"]- data[\"signup_time\"]).dt.days\n",
    "\n",
    "# if multi account used same IP address, create a binary column T/F\n",
    "# use it to replace the IP address column\n",
    "# data[\"device_id\"].nunique()\n",
    "device_id=data[['user_id', 'device_id']].groupby('device_id').count().reset_index()\n",
    "device_id.columns=[\"device_id\",\"account_#_device\"]\n",
    "data=pd.merge(data,device_id,how=\"left\",on=\"device_id\")\n",
    "\n",
    "# if multi account used same device ID, create a binary column T/F\n",
    "# use it to replace the device ID column\n",
    "ip_address=data[['user_id', 'ip_address']].groupby('ip_address').count().reset_index()\n",
    "ip_address.columns=[\"ip_address\",\"account_#_ip\"]\n",
    "data=pd.merge(data,ip_address,how=\"left\",on=\"ip_address\")\n",
    "\n",
    "# extract month week from purchase and signup, may have correlation in time cycle\n",
    "data[\"purchase_month_of_year\"]=data[\"purchase_time\"].dt.month\n",
    "data[\"purchase_week_of_year\"]=data[\"purchase_time\"].dt.isocalendar().week\n",
    "data[\"signup_month_of_year\"]=data[\"signup_time\"].dt.month\n",
    "data[\"signup_week_of_year\"]=data[\"signup_time\"].dt.isocalendar().week\n",
    "\n",
    "# delete ip_address, use country code instead as feature for model\n"
   ]
  },
  {
   "cell_type": "code",
   "execution_count": 135,
   "id": "f58e80c6-5c41-4a7d-861e-3bf8c66cd8f8",
   "metadata": {},
   "outputs": [
    {
     "data": {
      "text/plain": [
       "user_id                            int64\n",
       "signup_time               datetime64[ns]\n",
       "purchase_time             datetime64[ns]\n",
       "purchase_value                     int64\n",
       "device_id                         object\n",
       "source                            object\n",
       "browser                           object\n",
       "sex                               object\n",
       "age                                int64\n",
       "ip_address                       float64\n",
       "class                              int64\n",
       "country                           object\n",
       "diff_days                          int64\n",
       "account_#_device                   int64\n",
       "account_#_ip                       int64\n",
       "purchase_month_of_year             int32\n",
       "purchase_week_of_year             UInt32\n",
       "signup_month_of_year               int32\n",
       "signup_week_of_year               UInt32\n",
       "dtype: object"
      ]
     },
     "execution_count": 135,
     "metadata": {},
     "output_type": "execute_result"
    }
   ],
   "source": [
    "# data.columns\n",
    "data.dtypes\n",
    "# data"
   ]
  },
  {
   "cell_type": "markdown",
   "id": "62753eee-e5bf-4ae0-82b6-c8d13bf97270",
   "metadata": {},
   "source": [
    "scaling numeric"
   ]
  },
  {
   "cell_type": "code",
   "execution_count": 136,
   "id": "1e5bb163-64bc-4557-9764-8788e65ea4e5",
   "metadata": {},
   "outputs": [],
   "source": [
    "# from sklearn.preprocessing import StandardScaler"
   ]
  },
  {
   "cell_type": "markdown",
   "id": "5a353656-80b2-48cb-b294-0c6a5f8e9eba",
   "metadata": {},
   "source": [
    "OneHotEncoding or LabelEncoding\n",
    "- no need to use label encoder for categorical features, since LGBM takes categorical features\n",
    "- for non-orfinal numerical features, market them as cat in modeling parameters"
   ]
  },
  {
   "cell_type": "code",
   "execution_count": 137,
   "id": "ed75e016-a52c-4084-b3d2-e331d8a1303d",
   "metadata": {},
   "outputs": [
    {
     "data": {
      "text/plain": [
       "user_id                   151112\n",
       "signup_time               151112\n",
       "purchase_time             150679\n",
       "purchase_value               122\n",
       "device_id                 137956\n",
       "source                         3\n",
       "browser                        5\n",
       "sex                            2\n",
       "age                           58\n",
       "ip_address                143512\n",
       "class                          2\n",
       "country                      182\n",
       "diff_days                    120\n",
       "account_#_device              20\n",
       "account_#_ip                  20\n",
       "purchase_month_of_year        12\n",
       "purchase_week_of_year         51\n",
       "signup_month_of_year           8\n",
       "signup_week_of_year           34\n",
       "dtype: int64"
      ]
     },
     "execution_count": 137,
     "metadata": {},
     "output_type": "execute_result"
    }
   ],
   "source": [
    "from sklearn.preprocessing import LabelEncoder\n",
    "data.nunique()"
   ]
  },
  {
   "cell_type": "code",
   "execution_count": 138,
   "id": "163c37d1-da16-4779-b8f1-35f4c42ad79e",
   "metadata": {},
   "outputs": [],
   "source": [
    "# label some numerical features as categorical because they don't possess the ordinal relationship, for modeling purpose\n",
    "categorical=[\"source\",\"browser\",\"sex\",\"country\",\"purchase_month_of_year\",\"purchase_week_of_year\",\"signup_month_of_year\",\"signup_week_of_year\"]\n",
    "numerical=[\"purchase_value\",\"age\",\"diff_days\",\"account_#_device\",\"account_#_ip\",]\n",
    "final_data=data[categorical+numerical+[\"class\"]]\n",
    "# final_data\n",
    "\n",
    "# convert data format for LGBM model only, for other model, no need\n",
    "for col in categorical:\n",
    "    if final_data[col].dtype==\"object\":\n",
    "        final_data[col] = final_data[col].astype(\"category\")"
   ]
  },
  {
   "cell_type": "code",
   "execution_count": 139,
   "id": "d94a7b02-1c65-4b5d-bef6-c0ccbc6b4779",
   "metadata": {},
   "outputs": [],
   "source": [
    "#split \n",
    "from sklearn.model_selection import train_test_split\n",
    "X=final_data.drop(columns=[\"class\"])\n",
    "y=final_data[\"class\"]\n",
    "X_train, X_test,y_train, y_test=train_test_split(X,y,test_size=0.3, random_state=100,stratify=y) # stratify to ensure distribution"
   ]
  },
  {
   "cell_type": "markdown",
   "id": "3ec44b3c-d902-438c-83ea-ee0e9185ee20",
   "metadata": {},
   "source": [
    "# model selection\n",
    "Decision Tree:\n",
    "Simple and highly interpretable.\n",
    "Use plot_tree to visualize the decision-making process.\n",
    "\n",
    "Logistic Regression:\n",
    "Provides interpretable coefficients showing the impact of each feature.\n",
    "\n",
    "Random Forest:\n",
    "A balance between accuracy and interpretability.\n",
    "Feature importance helps explain decisions.\n",
    "\n",
    "Gradient Boosting (e.g., XGBoost, LightGBM):\n",
    "Highly accurate but harder to interpret.\n",
    "Use SHAP (SHapley Additive exPlanations) for feature contributions.\n",
    "\n",
    "#database has non-ordinal features, hence best Choices are models that do not assume an ordinal relationship such as Tree-Based classifier Models:\n",
    "Decision Trees, Random Forest, Gradient Boosting (XGBoost, LightGBM, CatBoost).\n",
    "\n",
    "Split data based on feature values rather than assuming numerical relationships.\n",
    "LightGBM and CatBoost support categorical features natively, reducing the need for encoding.\n"
   ]
  },
  {
   "cell_type": "code",
   "execution_count": 140,
   "id": "f442383d-0efa-48ee-ac1e-29355719a2d9",
   "metadata": {},
   "outputs": [
    {
     "name": "stdout",
     "output_type": "stream",
     "text": [
      "0.956346230202497\n",
      "[0.95579526 0.95625848 0.95645556 0.95645556 0.95701807]\n",
      "Confusion Matrix:\n",
      "[[41082     7]\n",
      " [ 1972  2273]]\n",
      "Classification Report:\n",
      "              precision    recall  f1-score   support\n",
      "\n",
      "           0       0.95      1.00      0.98     41089\n",
      "           1       1.00      0.54      0.70      4245\n",
      "\n",
      "    accuracy                           0.96     45334\n",
      "   macro avg       0.98      0.77      0.84     45334\n",
      "weighted avg       0.96      0.96      0.95     45334\n",
      "\n",
      "                  features  importance\n",
      "10               diff_days         601\n",
      "8           purchase_value         503\n",
      "9                      age         413\n",
      "5    purchase_week_of_year         409\n",
      "7      signup_week_of_year         388\n",
      "3                  country         307\n",
      "0                   source         133\n",
      "11        account_#_device         114\n",
      "2                      sex          62\n",
      "12            account_#_ip          62\n",
      "1                  browser           8\n",
      "4   purchase_month_of_year           0\n",
      "6     signup_month_of_year           0\n"
     ]
    },
    {
     "data": {
      "image/png": "[encoded data removed]",
      "text/plain": [
       "<Figure size 800x670 with 2 Axes>"
      ]
     },
     "metadata": {},
     "output_type": "display_data"
    }
   ],
   "source": [
    "import lightgbm as lgb\n",
    "from sklearn.model_selection import cross_val_score, StratifiedKFold\n",
    "from sklearn.metrics import accuracy_score\n",
    "model=lgb.LGBMClassifier(verbose=-1) # use verbose to supress logs\n",
    "model.fit(X_train,y_train,categorical_feature=categorical)\n",
    "y_pred=model.predict(X_test)\n",
    "accuracy=accuracy_score(y_test,y_pred)\n",
    "print(accuracy)\n",
    "cv=StratifiedKFold(n_splits=5,shuffle=True,random_state=100)\n",
    "cv_scores=cross_val_score(model,X,y,cv=cv,scoring=\"accuracy\")\n",
    "print(cv_scores)\n",
    "# accuracy score is pretty high\n",
    "cm = confusion_matrix(y_test, y_pred)\n",
    "print(\"Confusion Matrix:\")\n",
    "print(cm)\n",
    "report = classification_report(y_test, y_pred)\n",
    "print(\"Classification Report:\")\n",
    "print(report)\n",
    "importance=model.feature_importances_\n",
    "feature_names=X.columns\n",
    "importance_pd=pd.DataFrame({\n",
    "    \"features\":feature_names,\n",
    "    \"importance\": importance   \n",
    "})\n",
    "print(importance_pd.sort_values(by=\"importance\", ascending=False))\n",
    "\n",
    "import shap\n",
    "explainer=shap.TreeExplainer(model)\n",
    "shap_values=explainer.shap_values(X_test)\n",
    "shap.summary_plot(shap_values[1], X_test)\n"
   ]
  },
  {
   "cell_type": "markdown",
   "id": "34414024-3e95-4d49-9a84-730304112e5b",
   "metadata": {},
   "source": [
    "# Predict class probabilities with LGBM\n",
    "the LGBM prediction likelihood of default with prab in %, when it pass threshold, it spit out 1 else 0."
   ]
  },
  {
   "cell_type": "code",
   "execution_count": 141,
   "id": "6c542e9d-73fd-4b30-a3f2-a70b5f3214c4",
   "metadata": {},
   "outputs": [
    {
     "name": "stdout",
     "output_type": "stream",
     "text": [
      "[0.01779624 0.99873188 0.03148375 ... 0.034107   0.03727501 0.02891973]\n"
     ]
    }
   ],
   "source": [
    "proba = model.predict_proba(X_test)\n",
    "# Extract probabilities for the positive class (e.g., default)\n",
    "default_probability = proba[:, 1]  # Probability of class \"1\" (default)\n",
    "print(default_probability)\n"
   ]
  },
  {
   "cell_type": "markdown",
   "id": "22b36d24-3622-4fac-a095-2e6ca0bafa3c",
   "metadata": {},
   "source": [
    "# interpretation & conclusion from shap and feature importance \n",
    "\n",
    "The model works like a fraud investigator. It looks for patterns in the data and flags users who are more likely to engage in fraudulent behavior based on their characteristics and actions.\n",
    "It doesn’t make random guesses—it identifies behaviors and attributes that, historically, are associated with fraud.\n",
    "\n",
    "\n",
    "importance rank from high to low, right - higher likelihood of default, left - lower. \n",
    "Red: High feature value. Blue: Low feature value.\n",
    "\n",
    "- high account# for same ip link with higher default %, account device # as well\n",
    "- longer betwen signup and purchase day ---- lower default rate"
   ]
  },
  {
   "cell_type": "markdown",
   "id": "b2ac3a4f-d89c-474d-bd8b-6afed2ba71ee",
   "metadata": {},
   "source": [
    "# use case in product\n",
    "Based on the model's predicted probability of fraud, segment users into risk levels:\n",
    "Low Risk (Confidently Legitimate):\n",
    "Users with low fraud probabilities (e.g., <10%).\n",
    "Medium Risk (Uncertain Cases):\n",
    "Users with moderate fraud probabilities (e.g., 10–50%).\n",
    "High Risk (Confidently Fraudulent):\n",
    "Users with high fraud probabilities (e.g., >50%).\n",
    "\n",
    "Design User Experiences Based on Risk, For each risk level, tailor the user experience: additional verification process etc. \n"
   ]
  },
  {
   "cell_type": "markdown",
   "id": "8a586277-3c43-4b71-87d9-46e1b9c9ca84",
   "metadata": {},
   "source": [
    "\n"
   ]
  },
  {
   "cell_type": "code",
   "execution_count": null,
   "id": "bf3f5b32-acc3-44c5-8373-adabcf836f78",
   "metadata": {},
   "outputs": [],
   "source": []
  },
  {
   "cell_type": "code",
   "execution_count": null,
   "id": "7ee63128-dbc8-458a-96b2-b205a759b9b4",
   "metadata": {},
   "outputs": [],
   "source": []
  }
 ],
 "metadata": {
  "kernelspec": {
   "display_name": "Python 3 (ipykernel)",
   "language": "python",
   "name": "python3"
  },
  "language_info": {
   "codemirror_mode": {
    "name": "ipython",
    "version": 3
   },
   "file_extension": ".py",
   "mimetype": "text/x-python",
   "name": "python",
   "nbconvert_exporter": "python",
   "pygments_lexer": "ipython3",
   "version": "3.11.7"
  }
 },
 "nbformat": 4,
 "nbformat_minor": 5
}
