{
 "cells": [
  {
   "cell_type": "code",
   "execution_count": 1,
   "id": "7bf29932-a1f9-44da-9e57-b7b691c29cdd",
   "metadata": {},
   "outputs": [],
   "source": [
    "import warnings\n",
    "warnings. simplefilter(\"ignore\")\n",
    "\n",
    "import pandas as pd\n",
    "import numpy as np\n"
   ]
  },
  {
   "cell_type": "code",
   "execution_count": 2,
   "id": "9cdbc97a-cd2f-4718-a6d3-aa89e18b85ce",
   "metadata": {},
   "outputs": [
    {
     "data": {
      "text/html": [
       "<div>\n",
       "<style scoped>\n",
       "    .dataframe tbody tr th:only-of-type {\n",
       "        vertical-align: middle;\n",
       "    }\n",
       "\n",
       "    .dataframe tbody tr th {\n",
       "        vertical-align: top;\n",
       "    }\n",
       "\n",
       "    .dataframe thead th {\n",
       "        text-align: right;\n",
       "    }\n",
       "</style>\n",
       "<table border=\"1\" class=\"dataframe\">\n",
       "  <thead>\n",
       "    <tr style=\"text-align: right;\">\n",
       "      <th></th>\n",
       "      <th>id</th>\n",
       "      <th>user_id</th>\n",
       "      <th>user_state</th>\n",
       "      <th>user_sign_up_date</th>\n",
       "      <th>song_played</th>\n",
       "      <th>time_played</th>\n",
       "    </tr>\n",
       "  </thead>\n",
       "  <tbody>\n",
       "    <tr>\n",
       "      <th>0</th>\n",
       "      <td>GOQMMKSQQH</td>\n",
       "      <td>122</td>\n",
       "      <td>Louisiana</td>\n",
       "      <td>2015-05-16</td>\n",
       "      <td>Hey Jude</td>\n",
       "      <td>2015-06-11 21:51:35</td>\n",
       "    </tr>\n",
       "    <tr>\n",
       "      <th>1</th>\n",
       "      <td>HWKKBQKNWI</td>\n",
       "      <td>3</td>\n",
       "      <td>Ohio</td>\n",
       "      <td>2015-05-01</td>\n",
       "      <td>We Can Work It Out</td>\n",
       "      <td>2015-06-06 16:49:19</td>\n",
       "    </tr>\n",
       "    <tr>\n",
       "      <th>2</th>\n",
       "      <td>DKQSXVNJDH</td>\n",
       "      <td>35</td>\n",
       "      <td>New Jersey</td>\n",
       "      <td>2015-05-04</td>\n",
       "      <td>Back In the U.S.S.R.</td>\n",
       "      <td>2015-06-14 02:11:29</td>\n",
       "    </tr>\n",
       "    <tr>\n",
       "      <th>3</th>\n",
       "      <td>HLHRIDQTUW</td>\n",
       "      <td>126</td>\n",
       "      <td>Illinois</td>\n",
       "      <td>2015-05-16</td>\n",
       "      <td>P.s. I Love You</td>\n",
       "      <td>2015-06-08 12:26:10</td>\n",
       "    </tr>\n",
       "    <tr>\n",
       "      <th>4</th>\n",
       "      <td>SUKJCSBCYW</td>\n",
       "      <td>6</td>\n",
       "      <td>New Jersey</td>\n",
       "      <td>2015-05-01</td>\n",
       "      <td>Sgt. Pepper's Lonely Hearts Club Band</td>\n",
       "      <td>2015-06-28 14:57:00</td>\n",
       "    </tr>\n",
       "    <tr>\n",
       "      <th>...</th>\n",
       "      <td>...</td>\n",
       "      <td>...</td>\n",
       "      <td>...</td>\n",
       "      <td>...</td>\n",
       "      <td>...</td>\n",
       "      <td>...</td>\n",
       "    </tr>\n",
       "    <tr>\n",
       "      <th>3995</th>\n",
       "      <td>MKVEXMRJGF</td>\n",
       "      <td>122</td>\n",
       "      <td>Louisiana</td>\n",
       "      <td>2015-05-16</td>\n",
       "      <td>Paperback Writer</td>\n",
       "      <td>2015-06-03 08:26:26</td>\n",
       "    </tr>\n",
       "    <tr>\n",
       "      <th>3996</th>\n",
       "      <td>HMBEUWPBQI</td>\n",
       "      <td>76</td>\n",
       "      <td>New York</td>\n",
       "      <td>2015-05-08</td>\n",
       "      <td>Reprise / Day in the Life</td>\n",
       "      <td>2015-06-14 15:46:04</td>\n",
       "    </tr>\n",
       "    <tr>\n",
       "      <th>3997</th>\n",
       "      <td>KIYDZUFUJN</td>\n",
       "      <td>68</td>\n",
       "      <td>Florida</td>\n",
       "      <td>2015-05-08</td>\n",
       "      <td>Get Back</td>\n",
       "      <td>2015-06-13 13:13:11</td>\n",
       "    </tr>\n",
       "    <tr>\n",
       "      <th>3998</th>\n",
       "      <td>BZNJXQSTTL</td>\n",
       "      <td>138</td>\n",
       "      <td>Alabama</td>\n",
       "      <td>2015-05-17</td>\n",
       "      <td>Help!</td>\n",
       "      <td>2015-06-01 17:01:40</td>\n",
       "    </tr>\n",
       "    <tr>\n",
       "      <th>3999</th>\n",
       "      <td>LXJTCLWRUV</td>\n",
       "      <td>188</td>\n",
       "      <td>New York</td>\n",
       "      <td>2015-05-20</td>\n",
       "      <td>Birthday</td>\n",
       "      <td>2015-06-25 18:13:41</td>\n",
       "    </tr>\n",
       "  </tbody>\n",
       "</table>\n",
       "<p>4000 rows × 6 columns</p>\n",
       "</div>"
      ],
      "text/plain": [
       "              id  user_id  user_state user_sign_up_date  \\\n",
       "0     GOQMMKSQQH      122   Louisiana        2015-05-16   \n",
       "1     HWKKBQKNWI        3        Ohio        2015-05-01   \n",
       "2     DKQSXVNJDH       35  New Jersey        2015-05-04   \n",
       "3     HLHRIDQTUW      126    Illinois        2015-05-16   \n",
       "4     SUKJCSBCYW        6  New Jersey        2015-05-01   \n",
       "...          ...      ...         ...               ...   \n",
       "3995  MKVEXMRJGF      122   Louisiana        2015-05-16   \n",
       "3996  HMBEUWPBQI       76    New York        2015-05-08   \n",
       "3997  KIYDZUFUJN       68     Florida        2015-05-08   \n",
       "3998  BZNJXQSTTL      138     Alabama        2015-05-17   \n",
       "3999  LXJTCLWRUV      188    New York        2015-05-20   \n",
       "\n",
       "                                song_played          time_played  \n",
       "0                                  Hey Jude  2015-06-11 21:51:35  \n",
       "1                        We Can Work It Out  2015-06-06 16:49:19  \n",
       "2                      Back In the U.S.S.R.  2015-06-14 02:11:29  \n",
       "3                           P.s. I Love You  2015-06-08 12:26:10  \n",
       "4     Sgt. Pepper's Lonely Hearts Club Band  2015-06-28 14:57:00  \n",
       "...                                     ...                  ...  \n",
       "3995                       Paperback Writer  2015-06-03 08:26:26  \n",
       "3996              Reprise / Day in the Life  2015-06-14 15:46:04  \n",
       "3997                               Get Back  2015-06-13 13:13:11  \n",
       "3998                                  Help!  2015-06-01 17:01:40  \n",
       "3999                               Birthday  2015-06-25 18:13:41  \n",
       "\n",
       "[4000 rows x 6 columns]"
      ]
     },
     "execution_count": 2,
     "metadata": {},
     "output_type": "execute_result"
    }
   ],
   "source": [
    "data=pd.read_json(\"C:/Users/chenl/Data Science prep/data/song - Song Challenge.json\")\n",
    "data"
   ]
  },
  {
   "cell_type": "code",
   "execution_count": 4,
   "id": "e40ab3f1-b70a-42af-a8c7-4792486e46c6",
   "metadata": {},
   "outputs": [
    {
     "name": "stdout",
     "output_type": "stream",
     "text": [
      "<class 'pandas.core.frame.DataFrame'>\n",
      "RangeIndex: 4000 entries, 0 to 3999\n",
      "Data columns (total 6 columns):\n",
      " #   Column             Non-Null Count  Dtype \n",
      "---  ------             --------------  ----- \n",
      " 0   id                 4000 non-null   object\n",
      " 1   user_id            4000 non-null   int64 \n",
      " 2   user_state         4000 non-null   object\n",
      " 3   user_sign_up_date  4000 non-null   object\n",
      " 4   song_played        4000 non-null   object\n",
      " 5   time_played        4000 non-null   object\n",
      "dtypes: int64(1), object(5)\n",
      "memory usage: 187.6+ KB\n"
     ]
    }
   ],
   "source": [
    "data.info()"
   ]
  },
  {
   "cell_type": "code",
   "execution_count": 7,
   "id": "c6edb805-3791-4db9-939f-39c8d134129d",
   "metadata": {},
   "outputs": [
    {
     "name": "stdout",
     "output_type": "stream",
     "text": [
      "unique user # is  196\n"
     ]
    }
   ],
   "source": [
    "print(\"unique user # is \",data[\"user_id\"].nunique())\n",
    "# 196 unique users\n",
    "# convert time\n",
    "data[\"user_sign_up_date\"]=pd.to_datetime(data[\"user_sign_up_date\"])\n",
    "data[\"time_played\"]=pd.to_datetime(data[\"time_played\"])"
   ]
  },
  {
   "cell_type": "code",
   "execution_count": 14,
   "id": "c264a9c2-a37c-4ddf-a54d-f022333526e5",
   "metadata": {},
   "outputs": [
    {
     "data": {
      "text/plain": [
       "100"
      ]
     },
     "execution_count": 14,
     "metadata": {},
     "output_type": "execute_result"
    }
   ],
   "source": [
    "data[\"song_played\"].nunique()"
   ]
  },
  {
   "cell_type": "markdown",
   "id": "527edaea-5ff4-41de-b025-f5c74b075ffb",
   "metadata": {},
   "source": [
    "# 1 \n",
    "What are the top 3 and the bottom 3 states in terms of number of users?"
   ]
  },
  {
   "cell_type": "code",
   "execution_count": 27,
   "id": "a7a8c221-748d-4c76-9f2d-a6708cdb4a45",
   "metadata": {},
   "outputs": [
    {
     "name": "stdout",
     "output_type": "stream",
     "text": [
      "top 3:     user_state  user_id\n",
      "25    New York       23\n",
      "4   California       21\n",
      "35       Texas       15\n",
      "bottom 3:    user_state  user_id\n",
      "22   Nebraska        1\n",
      "2     Arizona        1\n",
      "13     Kansas        1\n"
     ]
    }
   ],
   "source": [
    "# count users groupby states\n",
    "state_count=data[[\"user_id\",\"user_state\"]].groupby(\"user_state\")[\"user_id\"].nunique().reset_index().sort_values(by=\"user_id\",ascending=False)\n",
    "print(\"top 3:\",state_count.head(3))\n",
    "print(\"bottom 3:\",state_count.tail(3))"
   ]
  },
  {
   "cell_type": "markdown",
   "id": "9dbfefee-e543-4fc4-b78c-4f8feb082f94",
   "metadata": {},
   "source": [
    "# 2 \n",
    "What are the top 3 and the bottom 3 states in terms of user engagement? You canchoose how to mathematically define user engagement. \n",
    "\n",
    "\n"
   ]
  },
  {
   "cell_type": "code",
   "execution_count": 48,
   "id": "55f8549f-0635-41ae-abf9-5ea807c61d25",
   "metadata": {},
   "outputs": [
    {
     "name": "stdout",
     "output_type": "stream",
     "text": [
      "   user_state  time_played  user #  average_play\n",
      "0      Kansas            8       1           8.0\n",
      "3    Virginia           17       2           8.5\n",
      "14  Minnesota           42       4          10.5\n",
      "        user_state  time_played  user #  average_play\n",
      "22  South Carolina           85       3     28.333333\n",
      "18          Alaska           58       2     29.000000\n",
      "10        Nebraska           36       1     36.000000\n"
     ]
    }
   ],
   "source": [
    "# total play count , average play count per user\n",
    "play_count=data[[\"user_state\",\"time_played\"]].groupby(\"user_state\").count().reset_index().sort_values(by=\"time_played\")\n",
    "engagement=pd.merge(play_count,state_count,how=\"left\",on=\"user_state\")\n",
    "engagement.columns=[\"user_state\",\t\"time_played\",\t\"user #\"]\n",
    "engagement[\"average_play\"]=engagement[\"time_played\"]/engagement[\"user #\"]\n",
    "engagement.sort_values(by=\"average_play\",inplace=True)\n",
    "print(engagement.head(3))\n",
    "print(engagement.tail(3))"
   ]
  },
  {
   "cell_type": "markdown",
   "id": "7b4bd5e8-1327-44ce-8878-98b17da6518b",
   "metadata": {},
   "source": [
    "# 3\n",
    "The CEO wants to send a gift to the first user who signed-up for each state. That is, the first user who signed-up from California, from Oregon, etc. "
   ]
  },
  {
   "cell_type": "code",
   "execution_count": null,
   "id": "86961692-64e7-4bda-9b40-e57f18fdaa61",
   "metadata": {},
   "outputs": [],
   "source": [
    "# groupby and find first user base on the sign_up_date\n",
    "state_1st=data[[\"user_state\",\"user_id\",\"user_sign_up_date\"]].groupby(\"user_state\")."
   ]
  },
  {
   "cell_type": "code",
   "execution_count": 55,
   "id": "38a9cf79-77b4-425b-b1df-6970462d2245",
   "metadata": {},
   "outputs": [
    {
     "data": {
      "text/html": [
       "<div>\n",
       "<style scoped>\n",
       "    .dataframe tbody tr th:only-of-type {\n",
       "        vertical-align: middle;\n",
       "    }\n",
       "\n",
       "    .dataframe tbody tr th {\n",
       "        vertical-align: top;\n",
       "    }\n",
       "\n",
       "    .dataframe thead th {\n",
       "        text-align: right;\n",
       "    }\n",
       "</style>\n",
       "<table border=\"1\" class=\"dataframe\">\n",
       "  <thead>\n",
       "    <tr style=\"text-align: right;\">\n",
       "      <th></th>\n",
       "      <th>user_state</th>\n",
       "      <th>user_id</th>\n",
       "      <th>user_sign_up_date</th>\n",
       "    </tr>\n",
       "  </thead>\n",
       "  <tbody>\n",
       "    <tr>\n",
       "      <th>100</th>\n",
       "      <td>Alabama</td>\n",
       "      <td>5</td>\n",
       "      <td>2015-05-01</td>\n",
       "    </tr>\n",
       "    <tr>\n",
       "      <th>112</th>\n",
       "      <td>Alaska</td>\n",
       "      <td>106</td>\n",
       "      <td>2015-05-12</td>\n",
       "    </tr>\n",
       "    <tr>\n",
       "      <th>368</th>\n",
       "      <td>Arizona</td>\n",
       "      <td>105</td>\n",
       "      <td>2015-05-12</td>\n",
       "    </tr>\n",
       "    <tr>\n",
       "      <th>257</th>\n",
       "      <td>Arkansas</td>\n",
       "      <td>78</td>\n",
       "      <td>2015-05-08</td>\n",
       "    </tr>\n",
       "    <tr>\n",
       "      <th>397</th>\n",
       "      <td>California</td>\n",
       "      <td>39</td>\n",
       "      <td>2015-05-04</td>\n",
       "    </tr>\n",
       "  </tbody>\n",
       "</table>\n",
       "</div>"
      ],
      "text/plain": [
       "     user_state  user_id user_sign_up_date\n",
       "100     Alabama        5        2015-05-01\n",
       "112      Alaska      106        2015-05-12\n",
       "368     Arizona      105        2015-05-12\n",
       "257    Arkansas       78        2015-05-08\n",
       "397  California       39        2015-05-04"
      ]
     },
     "execution_count": 55,
     "metadata": {},
     "output_type": "execute_result"
    }
   ],
   "source": [
    "gist_list=data.loc[data.groupby(\"user_state\")[\"user_sign_up_date\"].idxmin(),[\"user_state\",\"user_id\",\"user_sign_up_date\"]]\n",
    "gist_list.head()"
   ]
  },
  {
   "cell_type": "markdown",
   "id": "0a609fe6-8602-4b32-8002-ef0ded4a24fa",
   "metadata": {},
   "source": [
    "# 4\n",
    "Build a function that takes as an input any of the songs in the data and returns the most \n",
    "likely song to be listened next. That is, if, for instance, a user is currently listening t \r\n",
    "\"Eight Days A Week\", which song has the highest probability of being played right after  t\r\n",
    "by the same user? This is going to be v1 of a song recommendation mod\n",
    "\n",
    "note: we can do a simple most popular songs to forecast next song, or markov chain to predict next in line, also the collaborative filtering methodsel."
   ]
  },
  {
   "cell_type": "markdown",
   "id": "0ae5ec07-8730-40c0-8e71-5fac0bc0cb3b",
   "metadata": {},
   "source": [
    "User-based Collaborative Filtering: Recommends songs that these similar users listened to but the current user hasn’t.\n",
    "\n",
    "    Create a user-song interaction matrix, where rows are users, columns are songs, and values represent interactions;\n",
    "    Calculate user-to-user similarity using metrics like cosine similarity or Pearson correlation, calculate using the number of users whole listen them together\n",
    "\n",
    "\n"
   ]
  },
  {
   "cell_type": "code",
   "execution_count": 73,
   "id": "c8292e82-a9f4-4c45-8b7f-e60bdb41b556",
   "metadata": {},
   "outputs": [
    {
     "name": "stdout",
     "output_type": "stream",
     "text": [
      "song_played\n",
      "Come Together        150\n",
      "Revolution           141\n",
      "Get Back             138\n",
      "Let It Be            109\n",
      "A Day In The Life    103\n",
      "dtype: int64\n"
     ]
    }
   ],
   "source": [
    "from sklearn.metrics.pairwise import cosine_similarity\n",
    "from sklearn.preprocessing import normalize\n",
    "\n",
    "# User-Song matrix\n",
    "user_song = data.groupby(['user_id', 'song_played'])['id'].count().unstack(fill_value=0)\n",
    "user_song = (user_song > 0).astype(int)  # Convert to binary interactions\n",
    "user_song\n",
    "\n",
    "# Compute user-user similarity\n",
    "user_similarity = cosine_similarity(user_song)\n",
    "\n",
    "# Convert to DataFrame for easy access\n",
    "user_similarity_df = pd.DataFrame(user_similarity, index=user_song.index, columns=user_song.index)\n",
    "\n",
    "# 3. Define the function to recommend songs for a user\n",
    "def recommend_songs_for_user(user, user_similarity_df, user_song, k=5):\n",
    "    \"\"\"\n",
    "    Recommend songs for a user based on user-to-user similarity.\n",
    "    \"\"\"\n",
    "    # Find similar users\n",
    "    similar_users = user_similarity_df.loc[user].sort_values(ascending=False)[1:]  # Exclude the user itself\n",
    "    \n",
    "    # Aggregate songs listened to by similar users\n",
    "    song_scores = user_song.loc[similar_users.index].sum(axis=0)\n",
    "    \n",
    "    # Exclude songs already listened to by the current user\n",
    "    user_songs = user_song.loc[user]\n",
    "    song_scores = song_scores[user_songs == 0]\n",
    "    \n",
    "    # Return the top-k recommendations\n",
    "    return song_scores.sort_values(ascending=False).head(k)\n",
    "\n",
    "# 4. Example: Recommend songs for user 1\n",
    "recommendations = recommend_songs_for_user(user=1, user_similarity_df=user_similarity_df, user_song=user_song, k=5)\n",
    "print(recommendations)\n"
   ]
  },
  {
   "cell_type": "code",
   "execution_count": null,
   "id": "a158137b-9af2-439f-af17-cb756267daa0",
   "metadata": {},
   "outputs": [],
   "source": []
  },
  {
   "cell_type": "markdown",
   "id": "5e72981f-1815-4830-ae55-7d22d9ae327a",
   "metadata": {},
   "source": [
    "Item-based Collaborative Filtering: Finds songs similar to the currently played song based on how users have interacted with both. Recommends songs that are often played together.\n",
    "\n",
    "    Create a song-user interaction matrix, where rows are songs, columns are users, and values represent interactions.\n",
    "    Calculate song-to-song similarity using the same similarity metrics, two songs are considered similar if they are often listened to by the same group of users."
   ]
  },
  {
   "cell_type": "code",
   "execution_count": 65,
   "id": "53d37205-f775-4498-8251-a62cc4efe4e9",
   "metadata": {},
   "outputs": [
    {
     "data": {
      "text/html": [
       "<div>\n",
       "<style scoped>\n",
       "    .dataframe tbody tr th:only-of-type {\n",
       "        vertical-align: middle;\n",
       "    }\n",
       "\n",
       "    .dataframe tbody tr th {\n",
       "        vertical-align: top;\n",
       "    }\n",
       "\n",
       "    .dataframe thead th {\n",
       "        text-align: right;\n",
       "    }\n",
       "</style>\n",
       "<table border=\"1\" class=\"dataframe\">\n",
       "  <thead>\n",
       "    <tr style=\"text-align: right;\">\n",
       "      <th></th>\n",
       "      <th>Song</th>\n",
       "      <th>Similarity</th>\n",
       "    </tr>\n",
       "  </thead>\n",
       "  <tbody>\n",
       "    <tr>\n",
       "      <th>0</th>\n",
       "      <td>Come Together</td>\n",
       "      <td>0.417399</td>\n",
       "    </tr>\n",
       "    <tr>\n",
       "      <th>1</th>\n",
       "      <td>Hey Jude</td>\n",
       "      <td>0.398410</td>\n",
       "    </tr>\n",
       "    <tr>\n",
       "      <th>2</th>\n",
       "      <td>While My Guitar Gently Weeps</td>\n",
       "      <td>0.381503</td>\n",
       "    </tr>\n",
       "    <tr>\n",
       "      <th>3</th>\n",
       "      <td>Penny Lane</td>\n",
       "      <td>0.380693</td>\n",
       "    </tr>\n",
       "    <tr>\n",
       "      <th>4</th>\n",
       "      <td>A Day In The Life</td>\n",
       "      <td>0.377781</td>\n",
       "    </tr>\n",
       "    <tr>\n",
       "      <th>5</th>\n",
       "      <td>Let It Be</td>\n",
       "      <td>0.349749</td>\n",
       "    </tr>\n",
       "    <tr>\n",
       "      <th>6</th>\n",
       "      <td>Get Back</td>\n",
       "      <td>0.341918</td>\n",
       "    </tr>\n",
       "    <tr>\n",
       "      <th>7</th>\n",
       "      <td>Revolution</td>\n",
       "      <td>0.338261</td>\n",
       "    </tr>\n",
       "    <tr>\n",
       "      <th>8</th>\n",
       "      <td>I've Got A Feeling</td>\n",
       "      <td>0.335083</td>\n",
       "    </tr>\n",
       "    <tr>\n",
       "      <th>9</th>\n",
       "      <td>We Can Work It Out</td>\n",
       "      <td>0.332900</td>\n",
       "    </tr>\n",
       "  </tbody>\n",
       "</table>\n",
       "</div>"
      ],
      "text/plain": [
       "                           Song  Similarity\n",
       "0                 Come Together    0.417399\n",
       "1                      Hey Jude    0.398410\n",
       "2  While My Guitar Gently Weeps    0.381503\n",
       "3                    Penny Lane    0.380693\n",
       "4             A Day In The Life    0.377781\n",
       "5                     Let It Be    0.349749\n",
       "6                      Get Back    0.341918\n",
       "7                    Revolution    0.338261\n",
       "8            I've Got A Feeling    0.335083\n",
       "9            We Can Work It Out    0.332900"
      ]
     },
     "execution_count": 65,
     "metadata": {},
     "output_type": "execute_result"
    }
   ],
   "source": [
    "# Song-User matrix\n",
    "song_user = data.groupby(['song_played', 'user_id'])['id'].count().unstack(fill_value=0)\n",
    "song_user = (song_user > 0).astype(int)\n",
    "# song_user\n",
    "\n",
    "#song-song similarity matrix\n",
    "song_user_norm = normalize(song_user, axis=1)  # normalize the song-user matrix\n",
    "similarity = np.dot(song_user_norm, song_user_norm.T)  # calculate the similarity matrix\n",
    "similarity_df = pd.DataFrame(similarity, index=song_user.index, columns=song_user.index)\n",
    "\n",
    "# similarity_df.head()\n",
    "\n",
    "# top-k most similar songs\n",
    "def find_topk(song, similarity, k=1):\n",
    "    df = similarity.loc[song].sort_values(ascending=False)[1:k + 1].reset_index()\n",
    "    df = df.rename(columns={'song_played': 'Song', song: 'Similarity'})\n",
    "    \n",
    "    return df\n",
    "df = find_topk(song='Eight Days A Week', similarity=similarity_df, k=10)\n",
    "df\n",
    "# the mostly recommend would be Come Together"
   ]
  },
  {
   "cell_type": "markdown",
   "id": "87ef6f88-6f9c-4fba-aa9a-768fc99dd39c",
   "metadata": {},
   "source": [
    "# 5\n",
    "How would you set up a test to check whether your model works well and is improving \n",
    "engagement prolong the listen time\n",
    "\n",
    "\n",
    "perform a A/B test: randomly split users into two groups, Control group has no recommendation strategy; Experiment group recommend the next song.\n",
    "\n",
    "\n",
    "one-tailed t-test on 'average #play per hour'\n",
    "H0: population 'average #play per hour' is same in two groups;\n",
    "H1: experiment group's population 'average #play per hour' is higher than control group's?"
   ]
  }
 ],
 "metadata": {
  "kernelspec": {
   "display_name": "Python 3 (ipykernel)",
   "language": "python",
   "name": "python3"
  },
  "language_info": {
   "codemirror_mode": {
    "name": "ipython",
    "version": 3
   },
   "file_extension": ".py",
   "mimetype": "text/x-python",
   "name": "python",
   "nbconvert_exporter": "python",
   "pygments_lexer": "ipython3",
   "version": "3.11.7"
  }
 },
 "nbformat": 4,
 "nbformat_minor": 5
}
